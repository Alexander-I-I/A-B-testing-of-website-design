{
 "cells": [
  {
   "cell_type": "markdown",
   "id": "d3ee7156-b3ca-4024-843f-d44df06eb5f9",
   "metadata": {},
   "source": [
    "## Проект: A/B тестирование дизайна сайта"
   ]
  },
  {
   "cell_type": "markdown",
   "id": "25a56d61-ff66-49bc-b717-63440191f0e0",
   "metadata": {},
   "source": [
    "#### Цель проекта\n",
    "Провести анализ влияния двух вариантов дизайна сайта на конверсию пользователей. Определить, какой из вариантов (A или B) является более эффективным для повышения конверсии."
   ]
  },
  {
   "cell_type": "markdown",
   "id": "2656ef14-2cec-4c6a-ab4b-5b6ab5c9cc6f",
   "metadata": {},
   "source": [
    "#### Описание эксперимента\n",
    "Вариант A: Классический дизайн сайта, использующий стандартное оформление.\n",
    "Вариант B: Новый дизайн сайта с улучшенной навигацией и измененным расположением кнопок, более заметной кнопкой «Купить» или другим цветовым оформлением."
   ]
  },
  {
   "cell_type": "markdown",
   "id": "29be400a-4a13-48f2-9bb6-dc8f8e5bde1b",
   "metadata": {},
   "source": [
    "#### Гипотеза\n",
    "Гипотеза: Новый дизайн сайта (Вариант B) увеличит конверсию пользователей (например, покупки, регистрации) на X% по сравнению с классическим дизайном (Вариант A)."
   ]
  },
  {
   "cell_type": "markdown",
   "id": "3b3a150a-024d-477d-90c7-1f80221f850b",
   "metadata": {},
   "source": [
    "#### Метрики для анализа\n",
    "1. Основная метрика:\n",
    "- Конверсия (отношение числа пользователей, совершивших целевое действие, к общему числу пользователей).\n",
    "2. Второстепенные метрики:\n",
    "- Среднее время, проведенное на сайте.\n",
    "- Показатель отказов.\n",
    "- Средний чек (если применимо).\n"
   ]
  },
  {
   "cell_type": "markdown",
   "id": "648a0bef-b570-4b4b-9e27-22bc4c0f6808",
   "metadata": {},
   "source": [
    "#### Этапы проекта\n",
    "1. Сбор данных\n",
    " - Разделить аудиторию случайным образом на две группы: контрольная группа (Вариант A) и экспериментальная группа (Вариант B).\n",
    " - Собрать данные о поведении пользователей: просмотры страниц, клики на кнопку «Купить», время на сайте, завершенные покупки.\n",
    "\n",
    "2. Предобработка данных\n",
    " - Проверить данные на наличие пропусков, аномалий и дубликатов.\n",
    " - Убедиться, что выборки сбалансированы по основным демографическим и поведенческим характеристикам.\n",
    "\n",
    "3. Анализ данных\n",
    " - Посчитать конверсию и другие метрики для обеих групп.\n",
    " - Построить графики, сравнивающие показатели между группами.\n",
    "\n",
    "4. Статистический тест\n",
    " - Применить t-тест (или другой подходящий статистический тест) для проверки статистической значимости различий между группами.\n",
    " - Проверить, что p-value меньше заданного уровня значимости (например, 0.05), чтобы принять или отклонить гипотезу.\n",
    "\n",
    "5. Выводы\n",
    " - Интерпретировать результаты.\n",
    " - Предложить рекомендации на основе выводов.\n",
    "\n",
    "6. Визуализация результатов\n",
    " - Создать графики: столбчатую диаграмму конверсии, распределение времени на сайте и т. д."
   ]
  },
  {
   "cell_type": "markdown",
   "id": "f701b739-7d6f-4cc7-b865-84ea325c7ae1",
   "metadata": {},
   "source": [
    "Мы использовали данные о пользователях, которые посетили сайт в течение двух недель. Каждому пользователю был случайным образом назначен один из двух вариантов — A или B. В данных содержатся следующие столбцы:\n",
    "\n",
    "- user_id: Идентификатор пользователя.\n",
    "- variant: Группа (A или B).\n",
    "- clicks: Количество кликов пользователя на сайте.\n",
    "- session_duration: Продолжительность сессии в минутах.\n",
    "- conversion: Индикатор конверсии (1 — покупка, 0 — без покупки).\n",
    "- device: Тип устройства пользователя (например, телефон, компьютер, планшет).\n",
    "- age: Возраст пользователя.\n",
    "- location: Местоположение пользователя."
   ]
  },
  {
   "cell_type": "code",
   "execution_count": 28,
   "id": "cb9a2ee7-499d-41b9-9501-cb29e01ed70d",
   "metadata": {},
   "outputs": [],
   "source": [
    "# Импорты\n",
    "import pandas as pd\n",
    "import numpy as np\n",
    "import matplotlib.pyplot as plt\n",
    "import seaborn as sns\n",
    "from scipy import stats"
   ]
  },
  {
   "cell_type": "markdown",
   "id": "33c0453d-bfdc-4818-b75a-42a5f012ee01",
   "metadata": {},
   "source": [
    "##### Загрузка данных и предварительный анализ"
   ]
  },
  {
   "cell_type": "code",
   "execution_count": 71,
   "id": "7da06df5-1d5d-446e-a98e-872e9b85d373",
   "metadata": {},
   "outputs": [
    {
     "data": {
      "text/html": [
       "<div>\n",
       "<style scoped>\n",
       "    .dataframe tbody tr th:only-of-type {\n",
       "        vertical-align: middle;\n",
       "    }\n",
       "\n",
       "    .dataframe tbody tr th {\n",
       "        vertical-align: top;\n",
       "    }\n",
       "\n",
       "    .dataframe thead th {\n",
       "        text-align: right;\n",
       "    }\n",
       "</style>\n",
       "<table border=\"1\" class=\"dataframe\">\n",
       "  <thead>\n",
       "    <tr style=\"text-align: right;\">\n",
       "      <th></th>\n",
       "      <th>user_id</th>\n",
       "      <th>variant</th>\n",
       "      <th>clicks</th>\n",
       "      <th>session_duration</th>\n",
       "      <th>conversion</th>\n",
       "      <th>device</th>\n",
       "      <th>age</th>\n",
       "      <th>location</th>\n",
       "      <th>revenue</th>\n",
       "    </tr>\n",
       "  </thead>\n",
       "  <tbody>\n",
       "    <tr>\n",
       "      <th>0</th>\n",
       "      <td>1</td>\n",
       "      <td>A</td>\n",
       "      <td>6</td>\n",
       "      <td>5.684543</td>\n",
       "      <td>0</td>\n",
       "      <td>Планшет</td>\n",
       "      <td>32</td>\n",
       "      <td>Екатеринбург</td>\n",
       "      <td>0.000000</td>\n",
       "    </tr>\n",
       "    <tr>\n",
       "      <th>1</th>\n",
       "      <td>2</td>\n",
       "      <td>B</td>\n",
       "      <td>0</td>\n",
       "      <td>12.983905</td>\n",
       "      <td>0</td>\n",
       "      <td>Планшет</td>\n",
       "      <td>64</td>\n",
       "      <td>Москва</td>\n",
       "      <td>0.000000</td>\n",
       "    </tr>\n",
       "    <tr>\n",
       "      <th>2</th>\n",
       "      <td>3</td>\n",
       "      <td>A</td>\n",
       "      <td>0</td>\n",
       "      <td>6.997259</td>\n",
       "      <td>0</td>\n",
       "      <td>Планшет</td>\n",
       "      <td>39</td>\n",
       "      <td>Санкт-Петербург</td>\n",
       "      <td>0.000000</td>\n",
       "    </tr>\n",
       "    <tr>\n",
       "      <th>3</th>\n",
       "      <td>4</td>\n",
       "      <td>A</td>\n",
       "      <td>1</td>\n",
       "      <td>7.046459</td>\n",
       "      <td>0</td>\n",
       "      <td>Телефон</td>\n",
       "      <td>31</td>\n",
       "      <td>Санкт-Петербург</td>\n",
       "      <td>0.000000</td>\n",
       "    </tr>\n",
       "    <tr>\n",
       "      <th>4</th>\n",
       "      <td>5</td>\n",
       "      <td>A</td>\n",
       "      <td>2</td>\n",
       "      <td>8.953301</td>\n",
       "      <td>0</td>\n",
       "      <td>Телефон</td>\n",
       "      <td>43</td>\n",
       "      <td>Санкт-Петербург</td>\n",
       "      <td>0.000000</td>\n",
       "    </tr>\n",
       "    <tr>\n",
       "      <th>5</th>\n",
       "      <td>6</td>\n",
       "      <td>B</td>\n",
       "      <td>1</td>\n",
       "      <td>3.163318</td>\n",
       "      <td>0</td>\n",
       "      <td>Компьютер</td>\n",
       "      <td>45</td>\n",
       "      <td>Екатеринбург</td>\n",
       "      <td>0.000000</td>\n",
       "    </tr>\n",
       "    <tr>\n",
       "      <th>6</th>\n",
       "      <td>7</td>\n",
       "      <td>A</td>\n",
       "      <td>0</td>\n",
       "      <td>10.836145</td>\n",
       "      <td>0</td>\n",
       "      <td>Компьютер</td>\n",
       "      <td>40</td>\n",
       "      <td>Новосибирск</td>\n",
       "      <td>0.000000</td>\n",
       "    </tr>\n",
       "    <tr>\n",
       "      <th>7</th>\n",
       "      <td>8</td>\n",
       "      <td>A</td>\n",
       "      <td>1</td>\n",
       "      <td>11.799221</td>\n",
       "      <td>1</td>\n",
       "      <td>Планшет</td>\n",
       "      <td>31</td>\n",
       "      <td>Екатеринбург</td>\n",
       "      <td>181.923423</td>\n",
       "    </tr>\n",
       "    <tr>\n",
       "      <th>8</th>\n",
       "      <td>9</td>\n",
       "      <td>A</td>\n",
       "      <td>2</td>\n",
       "      <td>9.131889</td>\n",
       "      <td>0</td>\n",
       "      <td>Планшет</td>\n",
       "      <td>41</td>\n",
       "      <td>Москва</td>\n",
       "      <td>0.000000</td>\n",
       "    </tr>\n",
       "    <tr>\n",
       "      <th>9</th>\n",
       "      <td>10</td>\n",
       "      <td>B</td>\n",
       "      <td>0</td>\n",
       "      <td>12.954053</td>\n",
       "      <td>0</td>\n",
       "      <td>Планшет</td>\n",
       "      <td>19</td>\n",
       "      <td>Екатеринбург</td>\n",
       "      <td>0.000000</td>\n",
       "    </tr>\n",
       "  </tbody>\n",
       "</table>\n",
       "</div>"
      ],
      "text/plain": [
       "   user_id variant  clicks  session_duration  conversion     device  age  \\\n",
       "0        1       A       6          5.684543           0    Планшет   32   \n",
       "1        2       B       0         12.983905           0    Планшет   64   \n",
       "2        3       A       0          6.997259           0    Планшет   39   \n",
       "3        4       A       1          7.046459           0    Телефон   31   \n",
       "4        5       A       2          8.953301           0    Телефон   43   \n",
       "5        6       B       1          3.163318           0  Компьютер   45   \n",
       "6        7       A       0         10.836145           0  Компьютер   40   \n",
       "7        8       A       1         11.799221           1    Планшет   31   \n",
       "8        9       A       2          9.131889           0    Планшет   41   \n",
       "9       10       B       0         12.954053           0    Планшет   19   \n",
       "\n",
       "          location     revenue  \n",
       "0     Екатеринбург    0.000000  \n",
       "1           Москва    0.000000  \n",
       "2  Санкт-Петербург    0.000000  \n",
       "3  Санкт-Петербург    0.000000  \n",
       "4  Санкт-Петербург    0.000000  \n",
       "5     Екатеринбург    0.000000  \n",
       "6      Новосибирск    0.000000  \n",
       "7     Екатеринбург  181.923423  \n",
       "8           Москва    0.000000  \n",
       "9     Екатеринбург    0.000000  "
      ]
     },
     "execution_count": 71,
     "metadata": {},
     "output_type": "execute_result"
    }
   ],
   "source": [
    "# Загрузка данных\n",
    "data = pd.read_csv('/Users/alexander/data.csv')\n",
    "\n",
    "# Первоначальный просмотр данных\n",
    "data.head(10)"
   ]
  },
  {
   "cell_type": "code",
   "execution_count": 47,
   "id": "d155fc55-b2a6-4d8f-a13f-1eefeda3457b",
   "metadata": {},
   "outputs": [
    {
     "name": "stdout",
     "output_type": "stream",
     "text": [
      "Количество пропусков в каждом столбце:\n",
      "user_id             0\n",
      "variant             0\n",
      "clicks              0\n",
      "session_duration    0\n",
      "conversion          0\n",
      "device              0\n",
      "age                 0\n",
      "location            0\n",
      "revenue             0\n",
      "dtype: int64\n"
     ]
    }
   ],
   "source": [
    "# Проверка на пропуски\n",
    "print(\"Количество пропусков в каждом столбце:\")\n",
    "print(data.isnull().sum())"
   ]
  },
  {
   "cell_type": "code",
   "execution_count": 67,
   "id": "20f44d5b-79f4-4eda-835a-8886286af9c6",
   "metadata": {},
   "outputs": [
    {
     "name": "stdout",
     "output_type": "stream",
     "text": [
      "\n",
      "Статистика по очищенным данным:\n",
      "\n"
     ]
    },
    {
     "data": {
      "text/html": [
       "<div>\n",
       "<style scoped>\n",
       "    .dataframe tbody tr th:only-of-type {\n",
       "        vertical-align: middle;\n",
       "    }\n",
       "\n",
       "    .dataframe tbody tr th {\n",
       "        vertical-align: top;\n",
       "    }\n",
       "\n",
       "    .dataframe thead th {\n",
       "        text-align: right;\n",
       "    }\n",
       "</style>\n",
       "<table border=\"1\" class=\"dataframe\">\n",
       "  <thead>\n",
       "    <tr style=\"text-align: right;\">\n",
       "      <th></th>\n",
       "      <th>user_id</th>\n",
       "      <th>clicks</th>\n",
       "      <th>session_duration</th>\n",
       "      <th>conversion</th>\n",
       "      <th>age</th>\n",
       "      <th>revenue</th>\n",
       "    </tr>\n",
       "  </thead>\n",
       "  <tbody>\n",
       "    <tr>\n",
       "      <th>count</th>\n",
       "      <td>100.000000</td>\n",
       "      <td>100.000000</td>\n",
       "      <td>100.000000</td>\n",
       "      <td>100.000000</td>\n",
       "      <td>100.000000</td>\n",
       "      <td>100.000000</td>\n",
       "    </tr>\n",
       "    <tr>\n",
       "      <th>mean</th>\n",
       "      <td>50.500000</td>\n",
       "      <td>1.630000</td>\n",
       "      <td>7.910000</td>\n",
       "      <td>0.180000</td>\n",
       "      <td>41.890000</td>\n",
       "      <td>23.583381</td>\n",
       "    </tr>\n",
       "    <tr>\n",
       "      <th>std</th>\n",
       "      <td>29.011492</td>\n",
       "      <td>1.404574</td>\n",
       "      <td>3.065266</td>\n",
       "      <td>0.386123</td>\n",
       "      <td>14.119186</td>\n",
       "      <td>54.897330</td>\n",
       "    </tr>\n",
       "    <tr>\n",
       "      <th>min</th>\n",
       "      <td>1.000000</td>\n",
       "      <td>0.000000</td>\n",
       "      <td>1.000000</td>\n",
       "      <td>0.000000</td>\n",
       "      <td>19.000000</td>\n",
       "      <td>0.000000</td>\n",
       "    </tr>\n",
       "    <tr>\n",
       "      <th>25%</th>\n",
       "      <td>25.750000</td>\n",
       "      <td>1.000000</td>\n",
       "      <td>6.000000</td>\n",
       "      <td>0.000000</td>\n",
       "      <td>30.750000</td>\n",
       "      <td>0.000000</td>\n",
       "    </tr>\n",
       "    <tr>\n",
       "      <th>50%</th>\n",
       "      <td>50.500000</td>\n",
       "      <td>1.000000</td>\n",
       "      <td>8.000000</td>\n",
       "      <td>0.000000</td>\n",
       "      <td>42.000000</td>\n",
       "      <td>0.000000</td>\n",
       "    </tr>\n",
       "    <tr>\n",
       "      <th>75%</th>\n",
       "      <td>75.250000</td>\n",
       "      <td>2.000000</td>\n",
       "      <td>10.000000</td>\n",
       "      <td>0.000000</td>\n",
       "      <td>54.000000</td>\n",
       "      <td>0.000000</td>\n",
       "    </tr>\n",
       "    <tr>\n",
       "      <th>max</th>\n",
       "      <td>100.000000</td>\n",
       "      <td>6.000000</td>\n",
       "      <td>15.000000</td>\n",
       "      <td>1.000000</td>\n",
       "      <td>64.000000</td>\n",
       "      <td>190.511001</td>\n",
       "    </tr>\n",
       "  </tbody>\n",
       "</table>\n",
       "</div>"
      ],
      "text/plain": [
       "          user_id      clicks  session_duration  conversion         age  \\\n",
       "count  100.000000  100.000000        100.000000  100.000000  100.000000   \n",
       "mean    50.500000    1.630000          7.910000    0.180000   41.890000   \n",
       "std     29.011492    1.404574          3.065266    0.386123   14.119186   \n",
       "min      1.000000    0.000000          1.000000    0.000000   19.000000   \n",
       "25%     25.750000    1.000000          6.000000    0.000000   30.750000   \n",
       "50%     50.500000    1.000000          8.000000    0.000000   42.000000   \n",
       "75%     75.250000    2.000000         10.000000    0.000000   54.000000   \n",
       "max    100.000000    6.000000         15.000000    1.000000   64.000000   \n",
       "\n",
       "          revenue  \n",
       "count  100.000000  \n",
       "mean    23.583381  \n",
       "std     54.897330  \n",
       "min      0.000000  \n",
       "25%      0.000000  \n",
       "50%      0.000000  \n",
       "75%      0.000000  \n",
       "max    190.511001  "
      ]
     },
     "metadata": {},
     "output_type": "display_data"
    }
   ],
   "source": [
    "# Обработка аномалий\n",
    "# Убираем строки, где длительность сессии меньше 0\n",
    "data = data[data['session_duration'] >= 0]\n",
    "\n",
    "# Проверим, есть ли другие аномалии, например, пользователи с возрастом менее 18 лет или более 100 лет\n",
    "data = data[(data['age'] >= 18) & (data['age'] <= 100)]\n",
    "\n",
    "# Преобразование типов данных\n",
    "# Убедимся, что все столбцы имеют правильный тип\n",
    "data['user_id'] = data['user_id'].astype(int)\n",
    "data['variant'] = data['variant'].astype('category')\n",
    "data['device'] = data['device'].astype('category')\n",
    "data['location'] = data['location'].astype('category')\n",
    "\n",
    "# Преобразуем 'session_duration' в целое число, так как это длительность в минутах\n",
    "data['session_duration'] = data['session_duration'].astype(int)\n",
    "\n",
    "# Проверим результат\n",
    "print(\"\\nСтатистика по очищенным данным:\\n\")\n",
    "display(data.describe())"
   ]
  },
  {
   "cell_type": "markdown",
   "id": "5a7b4e98-ab49-4b05-afc0-709168cd80ff",
   "metadata": {},
   "source": [
    "##### Анализ конверсии по группам\n",
    "\n",
    "Давайте начнем с анализа конверсий (покупок) по группам A и B. Для этого:\n",
    "\n",
    "- Рассчитаем среднюю конверсию для каждой группы.\n",
    "- Проведем t-тест для независимых выборок, чтобы проверить, есть ли статистически значимая разница между конверсиями в группах A и B.\n"
   ]
  },
  {
   "cell_type": "code",
   "execution_count": 31,
   "id": "dc09a4bf-1902-4667-98b7-8f6fc7842112",
   "metadata": {},
   "outputs": [
    {
     "name": "stdout",
     "output_type": "stream",
     "text": [
      "Средняя конверсия для группы A: 0.18\n",
      "Средняя конверсия для группы B: 0.18\n",
      "p-value для t-теста: 0.9670\n"
     ]
    }
   ],
   "source": [
    "# Средняя конверсия по группам\n",
    "conversion_rate_A = data[data['variant'] == 'A']['conversion'].mean()\n",
    "conversion_rate_B = data[data['variant'] == 'B']['conversion'].mean()\n",
    "\n",
    "# t-тест для проверки различий между конверсиями в группах A и B\n",
    "t_stat, p_value = stats.ttest_ind(\n",
    "    data[data['variant'] == 'A']['conversion'],\n",
    "    data[data['variant'] == 'B']['conversion']\n",
    ")\n",
    "\n",
    "print(f\"Средняя конверсия для группы A: {conversion_rate_A:.2f}\")\n",
    "print(f\"Средняя конверсия для группы B: {conversion_rate_B:.2f}\")\n",
    "print(f\"p-value для t-теста: {p_value:.4f}\")\n"
   ]
  },
  {
   "cell_type": "markdown",
   "id": "a9cdc249-9a65-4096-a6f6-61a5b672c190",
   "metadata": {},
   "source": [
    "##### Анализ дохода\n",
    "Теперь давайте проанализируем доход (если покупка была совершена) по группам A и B. Для этого:\n",
    "\n",
    "- Рассчитаем средний доход для каждой группы.\n",
    "- Также проведем t-тест для независимых выборок для проверки разницы."
   ]
  },
  {
   "cell_type": "code",
   "execution_count": 34,
   "id": "467f25e4-446a-42bf-b4bd-c182e71fb403",
   "metadata": {},
   "outputs": [
    {
     "name": "stdout",
     "output_type": "stream",
     "text": [
      "Средний доход для группы A: 23.71\n",
      "Средний доход для группы B: 23.49\n",
      "p-value для t-теста по доходу: 0.9843\n"
     ]
    }
   ],
   "source": [
    "# Средний доход по группам\n",
    "revenue_A = data[data['variant'] == 'A']['revenue'].mean()\n",
    "revenue_B = data[data['variant'] == 'B']['revenue'].mean()\n",
    "\n",
    "# t-тест для проверки различий между доходами в группах A и B\n",
    "t_stat_revenue, p_value_revenue = stats.ttest_ind(\n",
    "    data[data['variant'] == 'A']['revenue'],\n",
    "    data[data['variant'] == 'B']['revenue']\n",
    ")\n",
    "\n",
    "print(f\"Средний доход для группы A: {revenue_A:.2f}\")\n",
    "print(f\"Средний доход для группы B: {revenue_B:.2f}\")\n",
    "print(f\"p-value для t-теста по доходу: {p_value_revenue:.4f}\")\n"
   ]
  },
  {
   "cell_type": "markdown",
   "id": "85206009-7eb8-4f48-98b5-7955d68ea847",
   "metadata": {},
   "source": [
    "##### Визуализация"
   ]
  },
  {
   "cell_type": "code",
   "execution_count": 41,
   "id": "ae57f08a-b7b3-4697-b017-0fc4ccc2de21",
   "metadata": {},
   "outputs": [
    {
     "data": {
      "image/png": "[encoded data removed]",
      "text/plain": [
       "<Figure size 800x600 with 1 Axes>"
      ]
     },
     "metadata": {},
     "output_type": "display_data"
    },
    {
     "data": {
      "image/png": "[encoded data removed]",
      "text/plain": [
       "<Figure size 800x600 with 1 Axes>"
      ]
     },
     "metadata": {},
     "output_type": "display_data"
    }
   ],
   "source": [
    "# Визуализация конверсий\n",
    "plt.figure(figsize=(8, 6))\n",
    "sns.barplot(x='variant', y='conversion', data=data, errorbar='sd', palette='coolwarm', hue='variant')\n",
    "plt.title('Средняя конверсия по группам A и B')\n",
    "plt.show()\n",
    "\n",
    "# Визуализация дохода\n",
    "plt.figure(figsize=(8, 6))\n",
    "sns.barplot(x='variant', y='revenue', data=data, errorbar='sd', palette='coolwarm', hue='variant')\n",
    "plt.title('Средний доход по группам A и B')\n",
    "plt.show()"
   ]
  },
  {
   "cell_type": "markdown",
   "id": "19224d4b-9ee1-4454-9e7c-ded1949d51f7",
   "metadata": {},
   "source": [
    "#### Можно сделать следующие выводы:\n",
    "\n",
    "1. Конверсия: Средняя конверсия для группы A и группы B одинакова (0.18), и p-value для t-теста (0.9670) указывает на то, что различий между группами нет. Это означает, что изменение, которое было произведено в эксперименте (например, изменение дизайна, функционала и т.д.), не оказало значительного влияния на конверсию.\n",
    "\n",
    "2. Доход: Средний доход также схож между группами (23.71 для группы A и 23.49 для группы B), и p-value для t-теста (0.9843) подтверждает, что различий между группами по доходу нет. Это также говорит о том, что изменения не повлияли на финансовые результаты."
   ]
  }
 ],
 "metadata": {
  "kernelspec": {
   "display_name": "Python 3 (ipykernel)",
   "language": "python",
   "name": "python3"
  },
  "language_info": {
   "codemirror_mode": {
    "name": "ipython",
    "version": 3
   },
   "file_extension": ".py",
   "mimetype": "text/x-python",
   "name": "python",
   "nbconvert_exporter": "python",
   "pygments_lexer": "ipython3",
   "version": "3.12.4"
  }
 },
 "nbformat": 4,
 "nbformat_minor": 5
}
